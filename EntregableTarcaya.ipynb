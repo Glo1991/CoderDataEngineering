{
 "cells": [
  {
   "cell_type": "code",
   "execution_count": null,
   "metadata": {},
   "outputs": [],
   "source": [
    "!pip install spotipy\n",
    "!pip install wheel\n",
    "!pip install pandas\n",
    "!pip install psycopg2"
   ]
  },
  {
   "cell_type": "code",
   "execution_count": 67,
   "metadata": {},
   "outputs": [],
   "source": [
    "with open(\"C:/Users/Usuario/Documents/client_secret_spotify.txt\",'r') as f:\n",
    "    pwd= f.read()"
   ]
  },
  {
   "cell_type": "code",
   "execution_count": 68,
   "metadata": {},
   "outputs": [],
   "source": [
    "import spotipy\n",
    "from spotipy.oauth2 import SpotifyClientCredentials\n",
    "client_id = '65a8d201a0fb46a095fa066b70f08123'\n",
    "client_secret = pwd\n",
    "client_credentials_manager = SpotifyClientCredentials(client_id, client_secret)\n",
    "sp = spotipy.Spotify(client_credentials_manager=client_credentials_manager)"
   ]
  },
  {
   "cell_type": "code",
   "execution_count": 69,
   "metadata": {},
   "outputs": [
    {
     "name": "stdout",
     "output_type": "stream",
     "text": [
      "Conectado a Redshift con éxito!\n"
     ]
    }
   ],
   "source": [
    "# Creando la conexión a Redsshift\n",
    "import psycopg2\n",
    "url=\"data-engineer-cluster.cyhh5bfevlmn.us-east-1.redshift.amazonaws.com\"\n",
    "data_base=\"data-engineer-database\"\n",
    "user=\"glo_tarcaya_coderhouse\"\n",
    "with open(\"C:/Users/Usuario/Documents/pwd_redshift.txt\",'r') as f:\n",
    "    pwd= f.read()\n",
    "try:\n",
    "    conn = psycopg2.connect(\n",
    "        host='data-engineer-cluster.cyhh5bfevlmn.us-east-1.redshift.amazonaws.com',\n",
    "        dbname=data_base,\n",
    "        user=user,\n",
    "        password=pwd,\n",
    "        port='5439'\n",
    "    )\n",
    "    print(\"Conectado a Redshift con éxito!\")\n",
    "    \n",
    "except Exception as e:\n",
    "    print(\"No es posible conectar a Redshift\")\n",
    "    print(e)"
   ]
  },
  {
   "cell_type": "code",
   "execution_count": 70,
   "metadata": {},
   "outputs": [],
   "source": [
    "#Crear la tabla si no existe\n",
    "with conn.cursor() as cur:\n",
    "    cur.execute(\"\"\"\n",
    "        CREATE TABLE IF NOT EXISTS glo_tarcaya_coderhouse.canciones\n",
    "        (\n",
    "\t    id VARCHAR(50) primary key  \n",
    "\t    ,artista VARCHAR(255)   \n",
    "\t    ,cancion VARCHAR(255)  \n",
    "\t    ,genero VARCHAR(300)   \n",
    "\t    ,album VARCHAR(100)   \n",
    "\t    ,total_canciones_album INTEGER  \n",
    "\t    ,reproducciones INTEGER \n",
    "\t    , anio INTEGER   \n",
    "\t    ,duracion_ms INTEGER   \n",
    "\t    ,album_img VARCHAR(300) \n",
    "        )\n",
    "    \"\"\")\n",
    "    conn.commit()"
   ]
  },
  {
   "cell_type": "code",
   "execution_count": 72,
   "metadata": {},
   "outputs": [],
   "source": [
    "#Vaciar la tabla para evitar duplicados o inconsistencias\n",
    "with conn.cursor() as cur:\n",
    "  cur.execute(\"Truncate table canciones\")\n",
    "  count = cur.rowcount"
   ]
  },
  {
   "cell_type": "code",
   "execution_count": 73,
   "metadata": {},
   "outputs": [
    {
     "data": {
      "text/plain": [
       "[]"
      ]
     },
     "execution_count": 73,
     "metadata": {},
     "output_type": "execute_result"
    }
   ],
   "source": [
    "#consultando la tabla\n",
    "cur = conn.cursor()\n",
    "cur.execute(\"SELECT * FROM canciones\")\n",
    "results = cur.fetchall()\n",
    "results"
   ]
  },
  {
   "cell_type": "code",
   "execution_count": null,
   "metadata": {},
   "outputs": [],
   "source": [
    "#Consultando los datos\n",
    "import pandas as pd\n",
    "results = sp.search(q='year:2023', type='track', limit=50)\n",
    "data = {'Id': [],'Artista': [], 'Cancion': [],'Duracion_ms': [], 'Genero': [],'Album': [], 'Album_img': [], 'Total_canciones_album': [], 'Reproducciones': [], 'Anio': []}\n",
    "for track in results['tracks']['items']:\n",
    "    id = track['id']\n",
    "    artist_name = track['artists'][0]['name']\n",
    "    artist_id = track['artists'][0]['id']\n",
    "    track_name = track['name']\n",
    "    duration_ms = track['duration_ms']\n",
    "    track_id = track['id']\n",
    "    album_group = track['album']['name']\n",
    "    album_img = track['album']['images'][0]['url'] #imagen de album\n",
    "    album_cont = track['album']['total_tracks']\n",
    "    track_genre = sp.artist(artist_id)['genres']\n",
    "    track_popularity = track['popularity']\n",
    "    track_year = track['album']['release_date'][:4]\n",
    "    \n",
    "    track_name = track_name.replace(\"'\", \"\")\n",
    "    album_group = album_group.replace(\"'\", \"\")\n",
    "    track_genre = ', '.join(track_genre)\n",
    "\n",
    "    data['Id'].append(id)\n",
    "    data['Artista'].append(artist_name)\n",
    "    data['Cancion'].append(track_name)\n",
    "    data['Duracion_ms'].append(duration_ms)\n",
    "    data['Album'].append(album_group)\n",
    "    data['Album_img'].append(album_img)\n",
    "    data['Total_canciones_album'].append(album_cont)\n",
    "    data['Genero'].append(track_genre)\n",
    "    data['Reproducciones'].append(track_popularity)\n",
    "    data['Anio'].append(track_year)\n",
    "df = pd.DataFrame(data)\n",
    "display(df)"
   ]
  },
  {
   "cell_type": "code",
   "execution_count": 75,
   "metadata": {},
   "outputs": [],
   "source": [
    "#Insertando los datos en Redsfhift\n",
    "from psycopg2.extras import execute_values\n",
    "with conn.cursor() as cur:\n",
    "    execute_values(\n",
    "        cur,\n",
    "        '''\n",
    "        INSERT INTO canciones (Id, Artista, Cancion, Duracion_ms, Genero, Album, Album_img, Total_canciones_album,Reproducciones,Anio)\n",
    "        VALUES %s\n",
    "        ''',\n",
    "        [tuple(row) for row in df.values],\n",
    "        page_size=len(df)\n",
    "    )\n",
    "    conn.commit()"
   ]
  },
  {
   "cell_type": "code",
   "execution_count": 76,
   "metadata": {},
   "outputs": [],
   "source": [
    "cur.close()\n",
    "conn.close()"
   ]
  }
 ],
 "metadata": {
  "kernelspec": {
   "display_name": "Python 3",
   "language": "python",
   "name": "python3"
  },
  "language_info": {
   "codemirror_mode": {
    "name": "ipython",
    "version": 3
   },
   "file_extension": ".py",
   "mimetype": "text/x-python",
   "name": "python",
   "nbconvert_exporter": "python",
   "pygments_lexer": "ipython3",
   "version": "3.9.13"
  },
  "orig_nbformat": 4
 },
 "nbformat": 4,
 "nbformat_minor": 2
}
